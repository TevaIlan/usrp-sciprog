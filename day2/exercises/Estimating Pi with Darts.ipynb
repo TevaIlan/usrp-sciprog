{
 "cells": [
  {
   "cell_type": "code",
   "execution_count": 1,
   "metadata": {
    "collapsed": true
   },
   "outputs": [],
   "source": [
    "import numpy as np\n",
    "import pi_estimate.darts as darts"
   ]
  },
  {
   "cell_type": "code",
   "execution_count": 12,
   "metadata": {},
   "outputs": [
    {
     "name": "stdout",
     "output_type": "stream",
     "text": [
      "n = 1.00e+02: \\pi = 3.280\n",
      "n = 1.00e+03: \\pi = 3.176\n",
      "n = 1.00e+04: \\pi = 3.132\n",
      "n = 1.00e+06: \\pi = 3.140\n"
     ]
    }
   ],
   "source": [
    "for n in [100, 1000, 10000, int(1e6)]:\n",
    "    dart_set = darts.Darts(n_darts = n)\n",
    "    pi = dart_set.estimate_pi()\n",
    "    print('n = {:.2e}: \\pi = {:5.3f}'.format(n, pi))"
   ]
  },
  {
   "cell_type": "code",
   "execution_count": null,
   "metadata": {
    "collapsed": true
   },
   "outputs": [],
   "source": [
    "import time\n",
    "\n",
    "for n in [2,3,4,5,6,7]\n",
    "    t_start\n",
    "    process_time()"
   ]
  }
 ],
 "metadata": {
  "kernelspec": {
   "display_name": "Python 3",
   "language": "python",
   "name": "python3"
  },
  "language_info": {
   "codemirror_mode": {
    "name": "ipython",
    "version": 3
   },
   "file_extension": ".py",
   "mimetype": "text/x-python",
   "name": "python",
   "nbconvert_exporter": "python",
   "pygments_lexer": "ipython3",
   "version": "3.6.1"
  }
 },
 "nbformat": 4,
 "nbformat_minor": 2
}
